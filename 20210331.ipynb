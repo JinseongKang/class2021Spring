{
  "nbformat": 4,
  "nbformat_minor": 0,
  "metadata": {
    "colab": {
      "name": "20210331.ipynb",
      "provenance": [],
      "authorship_tag": "ABX9TyNaAfki6jZ1q3x4angtNGTq",
      "include_colab_link": true
    },
    "kernelspec": {
      "name": "python3",
      "display_name": "Python 3"
    },
    "language_info": {
      "name": "python"
    }
  },
  "cells": [
    {
      "cell_type": "markdown",
      "metadata": {
        "id": "view-in-github",
        "colab_type": "text"
      },
      "source": [
        "<a href=\"https://colab.research.google.com/github/JinseongKang/class2021Spring/blob/main/20210331.ipynb\" target=\"_parent\"><img src=\"https://colab.research.google.com/assets/colab-badge.svg\" alt=\"Open In Colab\"/></a>"
      ]
    },
    {
      "cell_type": "markdown",
      "metadata": {
        "id": "Mg_-LTYP38iI"
      },
      "source": [
        "a의 duration  : 0.547290            /    e 의 duraion : 0.522573\n",
        "\n",
        "a의 pitch     : 129 Hz               /    e의 pitch : 107 Hz\n",
        "\n",
        "a의 intensity : 76.95 dB             /    e의 intensity : 71.31 dB\n",
        "\n",
        "a의 formant   : (First: 770.5 Hz, Second: 1109 Hz)              /    e의 formant : (First: 471.9 Hz, Second: 2224 Hz)"
      ]
    },
    {
      "cell_type": "code",
      "metadata": {
        "id": "PPL6xnNR5rDN"
      },
      "source": [
        ""
      ],
      "execution_count": null,
      "outputs": []
    }
  ]
}
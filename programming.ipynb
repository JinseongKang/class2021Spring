{
  "nbformat": 4,
  "nbformat_minor": 0,
  "metadata": {
    "colab": {
      "name": "Untitled1.ipynb",
      "provenance": [],
      "authorship_tag": "ABX9TyNDyTVZtuHruvcYpziOLais",
      "include_colab_link": true
    },
    "kernelspec": {
      "name": "python3",
      "display_name": "Python 3"
    }
  },
  "cells": [
    {
      "cell_type": "markdown",
      "metadata": {
        "id": "view-in-github",
        "colab_type": "text"
      },
      "source": [
        "<a href=\"https://colab.research.google.com/github/JinseongKang/class2021Spring/blob/main/programming.ipynb\" target=\"_parent\"><img src=\"https://colab.research.google.com/assets/colab-badge.svg\" alt=\"Open In Colab\"/></a>"
      ]
    },
    {
      "cell_type": "markdown",
      "metadata": {
        "id": "2FfkClJuo16A"
      },
      "source": [
        "# 1. 변수\r\n",
        "\r\n",
        "컴퓨터 언어에서 =는 같다는 뜻이 아니라 우측을 좌측에 assign한다는 뜻이다.\r\n",
        "\r\n",
        "a = 1 이라 가정했을 시\r\n",
        "a가 변수, 1은 내용이다.\r\n",
        "\r\n",
        "\r\n",
        "# 2. 제어문\r\n",
        "\r\n",
        "컴퓨터 언어에서의 문법이다.\r\n",
        "대부분이 for, if 로 구성되어있다.\r\n",
        "for은 반복, if는 조건을 의미한다.\r\n",
        "\r\n",
        "ex)\r\n",
        "\r\n",
        "if a == 1\r\n",
        "\r\n",
        "Print (3) \r\n",
        "\r\n",
        "* ==는 이퀄을 의미함.\r\n",
        "\r\n",
        "\r\n",
        "# 3. 함수\r\n",
        "\r\n",
        "입출력 관계를 말한다.\r\n",
        "입력값과 출력값 사이에 변화를 주는 것이 함수의 역할이다.\r\n",
        "\r\n",
        "ex)\r\n",
        "\r\n",
        "a = 1\r\n",
        "\r\n",
        "b = 3\r\n",
        "\r\n",
        "add (a,b)\r\n",
        "\r\n"
      ]
    }
  ]
}